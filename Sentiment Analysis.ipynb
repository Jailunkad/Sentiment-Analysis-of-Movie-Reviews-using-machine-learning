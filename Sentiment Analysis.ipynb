{
  "nbformat": 4,
  "nbformat_minor": 0,
  "metadata": {
    "colab": {
      "name": "CSCI184Project.ipynb",
      "provenance": []
    },
    "kernelspec": {
      "name": "python3",
      "display_name": "Python 3"
    },
    "language_info": {
      "name": "python"
    }
  },
  "cells": [
    {
      "cell_type": "code",
      "execution_count": null,
      "metadata": {
        "id": "VTcYF1i-OVkl"
      },
      "outputs": [],
      "source": [
        "# Libraries\n",
        "import pandas as pd"
      ]
    },
    {
      "cell_type": "code",
      "source": [
        "!pip install pandas matplotlib tensorflow"
      ],
      "metadata": {
        "id": "HzARyjvyVvp_"
      },
      "execution_count": null,
      "outputs": []
    },
    {
      "cell_type": "code",
      "source": [
        "# Read files\n",
        "# from google.colab import files\n",
        "# files.upload()\n",
        "\n",
        "csv_file = 'IMDB Dataset.csv'\n",
        "\n",
        "df = pd.read_csv(csv_file)"
      ],
      "metadata": {
        "id": "GIaM2I0cObb3"
      },
      "execution_count": null,
      "outputs": []
    },
    {
      "cell_type": "code",
      "source": [
        "df.head"
      ],
      "metadata": {
        "colab": {
          "base_uri": "https://localhost:8080/"
        },
        "id": "Dy34h1dhR0Bf",
        "outputId": "7367e86d-6a47-4417-e74c-ba87593f81a0"
      },
      "execution_count": null,
      "outputs": [
        {
          "output_type": "execute_result",
          "data": {
            "text/plain": [
              "<bound method NDFrame.head of                                                   review sentiment\n",
              "0      One of the other reviewers has mentioned that ...  positive\n",
              "1      A wonderful little production. <br /><br />The...  positive\n",
              "2      I thought this was a wonderful way to spend ti...  positive\n",
              "3      Basically there's a family where a little boy ...  negative\n",
              "4      Petter Mattei's \"Love in the Time of Money\" is...  positive\n",
              "...                                                  ...       ...\n",
              "49995  I thought this movie did a down right good job...  positive\n",
              "49996  Bad plot, bad dialogue, bad acting, idiotic di...  negative\n",
              "49997  I am a Catholic taught in parochial elementary...  negative\n",
              "49998  I'm going to have to disagree with the previou...  negative\n",
              "49999  No one expects the Star Trek movies to be high...  negative\n",
              "\n",
              "[50000 rows x 2 columns]>"
            ]
          },
          "metadata": {},
          "execution_count": 4
        }
      ]
    },
    {
      "cell_type": "code",
      "source": [
        "display(df.dtypes)"
      ],
      "metadata": {
        "colab": {
          "base_uri": "https://localhost:8080/",
          "height": 70
        },
        "id": "biSZtRuRSzfX",
        "outputId": "193bb860-247c-4a6b-d2cd-196377ddf4ee"
      },
      "execution_count": null,
      "outputs": [
        {
          "output_type": "display_data",
          "data": {
            "text/plain": [
              "review       object\n",
              "sentiment    object\n",
              "dtype: object"
            ]
          },
          "metadata": {}
        }
      ]
    },
    {
      "cell_type": "code",
      "source": [
        "# Split dataset into train, test\n",
        "from sklearn.model_selection import train_test_split # X review text, y sentiment\n",
        "X_train, X_test, y_train, y_test = train_test_split(df.review, df.sentiment, test_size = 0.30, random_state=0)"
      ],
      "metadata": {
        "id": "ClwOip8dZdaV"
      },
      "execution_count": null,
      "outputs": []
    },
    {
      "cell_type": "code",
      "source": [
        "# convert categorical sentiment labels to numerical (0 = positive, 1 = negative)\n",
        "sentiment_label = y_train.factorize() \n",
        "sentiment_label"
      ],
      "metadata": {
        "id": "z-Sg3oQVU0_N",
        "colab": {
          "base_uri": "https://localhost:8080/"
        },
        "outputId": "42a8f04d-b671-414d-c35b-afbd4667b4b3"
      },
      "execution_count": null,
      "outputs": [
        {
          "output_type": "execute_result",
          "data": {
            "text/plain": [
              "(array([0, 1, 0, ..., 0, 1, 0]),\n",
              " Index(['positive', 'negative'], dtype='object'))"
            ]
          },
          "metadata": {},
          "execution_count": 7
        }
      ]
    },
    {
      "cell_type": "code",
      "source": [
        "# Retrieve text data from dataframe\n",
        "reviews = X_train.values "
      ],
      "metadata": {
        "id": "IrZSAWwSVWJ4"
      },
      "execution_count": null,
      "outputs": []
    },
    {
      "cell_type": "code",
      "source": [
        "from tensorflow.keras.preprocessing.text import Tokenizer # tokenize reviews\n",
        "tokenizer = Tokenizer(num_words=5000)\n",
        "# creates an association between a word and number, stored  a dictionary in the tokenizer.word_index attribute\n",
        "tokenizer.fit_on_texts(reviews) "
      ],
      "metadata": {
        "id": "ItfKpCKJVhIM"
      },
      "execution_count": null,
      "outputs": []
    },
    {
      "cell_type": "code",
      "source": [
        "# Replace words with their assigned number\n",
        "encoded_docs = tokenizer.texts_to_sequences(reviews) "
      ],
      "metadata": {
        "id": "OPKOPcs5WTTu"
      },
      "execution_count": null,
      "outputs": []
    },
    {
      "cell_type": "code",
      "source": [
        "# Use padding to ensure each review is of equal length\n",
        "from tensorflow.keras.preprocessing.sequence import pad_sequences \n",
        "padded_sequence = pad_sequences(encoded_docs, maxlen=200)"
      ],
      "metadata": {
        "id": "hUIw7k8AWe6w"
      },
      "execution_count": null,
      "outputs": []
    },
    {
      "cell_type": "code",
      "source": [
        "# Building the LSTM model\n",
        "from tensorflow.keras.models import Sequential\n",
        "from tensorflow.keras.layers import LSTM,Dense, Dropout, SpatialDropout1D\n",
        "from tensorflow.keras.layers import Embedding\n",
        "embedding_vector_length = 32\n",
        "model = Sequential()\n",
        "model.add(Embedding(5000, embedding_vector_length, input_length=200)) # Embedding layer\n",
        "model.add(SpatialDropout1D(0.25)) # Dropout mechanism to reduce overfitting\n",
        "model.add(LSTM(50, dropout=0.5, recurrent_dropout=0.5)) # LSTM layer\n",
        "model.add(Dropout(0.2))\n",
        "model.add(Dense(1, activation='sigmoid')) # Dense layer\n",
        "model.compile(loss='binary_crossentropy',optimizer='adam', metrics=['accuracy'])\n",
        "print(model.summary())"
      ],
      "metadata": {
        "colab": {
          "base_uri": "https://localhost:8080/"
        },
        "id": "Vt6DavjSWuOP",
        "outputId": "e7585a15-ffe7-48b3-f0f9-a5152aff1d2e"
      },
      "execution_count": null,
      "outputs": [
        {
          "output_type": "stream",
          "name": "stdout",
          "text": [
            "Model: \"sequential\"\n",
            "_________________________________________________________________\n",
            " Layer (type)                Output Shape              Param #   \n",
            "=================================================================\n",
            " embedding (Embedding)       (None, 200, 32)           160000    \n",
            "                                                                 \n",
            " spatial_dropout1d (SpatialD  (None, 200, 32)          0         \n",
            " ropout1D)                                                       \n",
            "                                                                 \n",
            " lstm (LSTM)                 (None, 50)                16600     \n",
            "                                                                 \n",
            " dropout (Dropout)           (None, 50)                0         \n",
            "                                                                 \n",
            " dense (Dense)               (None, 1)                 51        \n",
            "                                                                 \n",
            "=================================================================\n",
            "Total params: 176,651\n",
            "Trainable params: 176,651\n",
            "Non-trainable params: 0\n",
            "_________________________________________________________________\n",
            "None\n"
          ]
        }
      ]
    },
    {
      "cell_type": "code",
      "source": [
        "# Preprocess test data\n",
        "test_sentiment_label = y_test.factorize()\n",
        "test_sentiment_label\n",
        "test_encoded_docs = tokenizer.texts_to_sequences(X_test) # replace words with their assigned number\n",
        "test_padded_sequence = pad_sequences(test_encoded_docs, maxlen=200)"
      ],
      "metadata": {
        "id": "DFzO8GSGoHJl"
      },
      "execution_count": null,
      "outputs": []
    },
    {
      "cell_type": "code",
      "source": [
        "history = model.fit(padded_sequence, sentiment_label[0], validation_split=0.2, epochs=5, batch_size=32)"
      ],
      "metadata": {
        "colab": {
          "base_uri": "https://localhost:8080/"
        },
        "id": "fdEbegRlXA3x",
        "outputId": "3080d842-ad88-44aa-bf0e-5c901d429074"
      },
      "execution_count": null,
      "outputs": [
        {
          "output_type": "stream",
          "name": "stdout",
          "text": [
            "Epoch 1/5\n",
            "875/875 [==============================] - 169s 187ms/step - loss: 0.4493 - accuracy: 0.7856 - val_loss: 0.3184 - val_accuracy: 0.8763\n",
            "Epoch 2/5\n",
            "875/875 [==============================] - 158s 180ms/step - loss: 0.3033 - accuracy: 0.8757 - val_loss: 0.2784 - val_accuracy: 0.8863\n",
            "Epoch 3/5\n",
            "875/875 [==============================] - 155s 178ms/step - loss: 0.2750 - accuracy: 0.8903 - val_loss: 0.3411 - val_accuracy: 0.8703\n",
            "Epoch 4/5\n",
            "875/875 [==============================] - 155s 177ms/step - loss: 0.2543 - accuracy: 0.8996 - val_loss: 0.2826 - val_accuracy: 0.8856\n",
            "Epoch 5/5\n",
            "875/875 [==============================] - 156s 178ms/step - loss: 0.2403 - accuracy: 0.9036 - val_loss: 0.3814 - val_accuracy: 0.8669\n"
          ]
        }
      ]
    },
    {
      "cell_type": "code",
      "source": [
        "# Visual analysis of accuracy metric\n",
        "import matplotlib.pyplot as plt\n",
        "plt.plot(history.history['accuracy'], label='acc')\n",
        "plt.plot(history.history['val_accuracy'], label='val_acc')\n",
        "plt.legend()\n",
        "plt.show()\n",
        "plt.savefig(\"Accuracy plot.jpg\")"
      ],
      "metadata": {
        "colab": {
          "base_uri": "https://localhost:8080/",
          "height": 283
        },
        "id": "Ug_lj2uIfWP2",
        "outputId": "dfdea35c-4fe1-4d9f-bb23-9deba0b92c7b"
      },
      "execution_count": null,
      "outputs": [
        {
          "output_type": "display_data",
          "data": {
            "text/plain": [
              "<Figure size 432x288 with 1 Axes>"
            ],
            "image/png": "[encoded data removed]"
          },
          "metadata": {
            "needs_background": "light"
          }
        },
        {
          "output_type": "display_data",
          "data": {
            "text/plain": [
              "<Figure size 432x288 with 0 Axes>"
            ]
          },
          "metadata": {}
        }
      ]
    },
    {
      "cell_type": "code",
      "source": [
        "# Visual analysis of loss metric\n",
        "plt.plot(history.history['loss'], label='loss')\n",
        "plt.plot(history.history['val_loss'], label='val_loss')\n",
        "plt.legend()\n",
        "plt.show()\n",
        "plt.savefig(\"Loss plt.jpg\")"
      ],
      "metadata": {
        "colab": {
          "base_uri": "https://localhost:8080/",
          "height": 283
        },
        "id": "QzqBhNU_iMVx",
        "outputId": "91677831-48fa-4323-b822-33f031c67090"
      },
      "execution_count": null,
      "outputs": [
        {
          "output_type": "display_data",
          "data": {
            "text/plain": [
              "<Figure size 432x288 with 1 Axes>"
            ],
            "image/png": "[encoded data removed]"
          },
          "metadata": {
            "needs_background": "light"
          }
        },
        {
          "output_type": "display_data",
          "data": {
            "text/plain": [
              "<Figure size 432x288 with 0 Axes>"
            ]
          },
          "metadata": {}
        }
      ]
    },
    {
      "cell_type": "code",
      "source": [
        "# Evaluating the model using the test data\n",
        "loss, accuracy = model.evaluate(test_padded_sequence, test_sentiment_label[0])"
      ],
      "metadata": {
        "colab": {
          "base_uri": "https://localhost:8080/"
        },
        "id": "uhdIZ5R4hHS5",
        "outputId": "d987eebf-3786-48f9-fa33-6dc1f4b0de92"
      },
      "execution_count": null,
      "outputs": [
        {
          "output_type": "stream",
          "name": "stdout",
          "text": [
            "469/469 [==============================] - 25s 53ms/step - loss: 0.3885 - accuracy: 0.8655\n"
          ]
        }
      ]
    },
    {
      "cell_type": "code",
      "source": [
        "# Function that predicts the sentiment of a test sentence\n",
        "def predict_sentiment(text):\n",
        "    tw = tokenizer.texts_to_sequences([text])\n",
        "    tw = pad_sequences(tw,maxlen=200)\n",
        "    prediction = int(model.predict(tw).round().item())\n",
        "    print(\"Predicted label: \", sentiment_label[1][prediction])\n",
        "\n",
        "test_sentence1 = \"I enjoyed myself\"\n",
        "predict_sentiment(test_sentence1)\n",
        "test_sentence2 = \"This is the worst experience of my life!\"\n",
        "predict_sentiment(test_sentence2)"
      ],
      "metadata": {
        "colab": {
          "base_uri": "https://localhost:8080/"
        },
        "id": "OzYegm2Ywb1R",
        "outputId": "eb66cbc5-66a8-45af-cd81-658e440b888e"
      },
      "execution_count": null,
      "outputs": [
        {
          "output_type": "stream",
          "name": "stdout",
          "text": [
            "Predicted label:  positive\n",
            "Predicted label:  negative\n"
          ]
        }
      ]
    }
  ]
}